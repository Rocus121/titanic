{
 "cells": [
  {
   "cell_type": "markdown",
   "metadata": {},
   "source": [
    "import streamlit as st\n",
    "import joblib\n",
    "import pandas as pd\n",
    "from sklearn.pipeline import Pipeline\n",
    "from sklearn.tree import DecisionTreeClassifier\n",
    "from PIL import Image\n",
    "\n",
    "def main():\n",
    "    \n",
    "    loaded_iris = joblib.load('iris_pipe.pkl')\n",
    "\n",
    "\n",
    "\n",
    "    lunghezza_sepalo = st.slider(\"lunghezza del sepalo\", 0, 1000, 25)\n",
    "    larghezza_sepalo = st.slider(\"larghezza del sepalo'\", 0, 1000, 25)\n",
    "    lunghezza_petalo = st.slider(\"lunghezza del petalo\", 0, 1000, 25)\n",
    "    larghezza_petalo = st.slider(\"larghezza del petalo\", 0, 1000, 25)\n",
    "\n",
    "\n",
    "\n",
    "    fiore = {'lunghezza del sepalo':[lunghezza_sepalo],\n",
    "            'larghezza del sepalo':[larghezza_sepalo],\n",
    "            'lunghezza del petalo':[lunghezza_petalo],\n",
    "            'larghezza del petalo': [larghezza_petalo],\n",
    "            }\n",
    "\n",
    "\n",
    "    df_fiore = pd.DataFrame(fiore)\n",
    "\n",
    "    def che_fiore_e(df_fiore):\n",
    "        \n",
    "        pred = loaded_iris.predict(df_fiore)[0]\n",
    "        if pred == 'Iris-setosa':\n",
    "            st.image(Image.open(\"Iris_setosa.jpg\"), use_container_width=True, caption= \"Iris setosa\"),\n",
    "        if pred == 'Iris-versicolor':\n",
    "            st.image(Image.open(\"Iris_versicolor.jpg\"),use_container_width=True, caption= \"Iris versicolor\"),\n",
    "        else:\n",
    "            st.image(Image.open(\"iris_virginica.jpg\"),use_container_width=True ,caption= \"iris virginica\")\n",
    "                    \n",
    "            \n",
    "\n",
    "        return pred\n",
    "\n",
    "\n",
    "    \n",
    "    st.text(f\"il tuo fiore potrebbe essere: {che_fiore_e(df_fiore)}\")\n",
    "    \n",
    "if __name__ == \"__main__\":\n",
    "    main()    \n",
    "    \n",
    "    "
   ]
  },
  {
   "cell_type": "code",
   "execution_count": null,
   "metadata": {},
   "outputs": [],
   "source": [
    "\n",
    "\n"
   ]
  },
  {
   "cell_type": "code",
   "execution_count": null,
   "metadata": {},
   "outputs": [],
   "source": []
  }
 ],
 "metadata": {
  "kernelspec": {
   "display_name": "Python 3",
   "language": "python",
   "name": "python3"
  },
  "language_info": {
   "name": "python",
   "version": "3.12.0"
  }
 },
 "nbformat": 4,
 "nbformat_minor": 2
}
