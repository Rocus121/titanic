{
 "cells": [
  {
   "cell_type": "code",
   "execution_count": null,
   "metadata": {},
   "outputs": [],
   "source": [
    "# convertire una persona generica in una del 1912 a bordo del Titanic"
   ]
  },
  {
   "cell_type": "code",
   "execution_count": null,
   "metadata": {},
   "outputs": [],
   "source": [
    "# classse'Pclass': (1,2,3), 'Sex'(M,F), 'Age', 'SibSp'(0,1,2,3,4,5), 'Parch'(0,2,1,5,3), 'Fare', porto'Embarked'(s,c,q)"
   ]
  },
  {
   "cell_type": "code",
   "execution_count": null,
   "metadata": {},
   "outputs": [],
   "source": [
    "#quanti anni hai?\n",
    "#genere\n",
    "#in quale zona avresti vissuto proiettare foto dei tre porti\n",
    "#qual è la tua RAL dalla RAL calcolare la classe d appartenenza e il costo del bigliettoo"
   ]
  }
 ],
 "metadata": {
  "kernelspec": {
   "display_name": "Python 3",
   "language": "python",
   "name": "python3"
  },
  "language_info": {
   "name": "python",
   "version": "3.12.0"
  }
 },
 "nbformat": 4,
 "nbformat_minor": 2
}
